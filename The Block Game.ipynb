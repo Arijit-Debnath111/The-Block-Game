{
 "cells": [
  {
   "cell_type": "code",
   "execution_count": null,
   "id": "9024cf45",
   "metadata": {},
   "outputs": [],
   "source": [
    "t = int(input())\n",
    "for i in range(t):\n",
    "    n=int(input())\n",
    "    num=n\n",
    "    rem=0\n",
    "    rev=0\n",
    "    while(n>0):\n",
    "        rem=n%10\n",
    "        rev=(rev*10)+rem\n",
    "        n=n//10\n",
    "        \n",
    "    if num==rev:\n",
    "        print(\"wins\")\n",
    "    else:\n",
    "        print(\"loses\")\n"
   ]
  },
  {
   "cell_type": "code",
   "execution_count": null,
   "id": "af99ed30",
   "metadata": {},
   "outputs": [],
   "source": []
  }
 ],
 "metadata": {
  "kernelspec": {
   "display_name": "Python 3 (ipykernel)",
   "language": "python",
   "name": "python3"
  },
  "language_info": {
   "codemirror_mode": {
    "name": "ipython",
    "version": 3
   },
   "file_extension": ".py",
   "mimetype": "text/x-python",
   "name": "python",
   "nbconvert_exporter": "python",
   "pygments_lexer": "ipython3",
   "version": "3.9.7"
  }
 },
 "nbformat": 4,
 "nbformat_minor": 5
}
